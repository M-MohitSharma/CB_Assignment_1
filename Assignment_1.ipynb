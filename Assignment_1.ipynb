{
 "cells": [
  {
   "cell_type": "markdown",
   "metadata": {},
   "source": [
    "QUES 1"
   ]
  },
  {
   "cell_type": "code",
   "execution_count": 1,
   "metadata": {},
   "outputs": [
    {
     "name": "stdout",
     "output_type": "stream",
     "text": [
      "5\n",
      "3\n"
     ]
    }
   ],
   "source": [
    "x=3\n",
    "y=5\n",
    "x,y = y,x\n",
    "print(x)\n",
    "print(y)"
   ]
  },
  {
   "cell_type": "markdown",
   "metadata": {},
   "source": [
    "QUES 2"
   ]
  },
  {
   "cell_type": "code",
   "execution_count": 3,
   "metadata": {},
   "outputs": [
    {
     "name": "stdout",
     "output_type": "stream",
     "text": [
      "45\n",
      "number is odd!\n"
     ]
    }
   ],
   "source": [
    "n=int(input())\n",
    "if n%2 == 0:\n",
    "    print(\"number is even!\")\n",
    "else:\n",
    "    print(\"number is odd!\")"
   ]
  },
  {
   "cell_type": "markdown",
   "metadata": {},
   "source": [
    "QUES 3"
   ]
  },
  {
   "cell_type": "code",
   "execution_count": 4,
   "metadata": {},
   "outputs": [
    {
     "name": "stdout",
     "output_type": "stream",
     "text": [
      "144\n",
      "12.0\n"
     ]
    }
   ],
   "source": [
    "n=int(input())\n",
    "print(n**0.5)\n"
   ]
  },
  {
   "cell_type": "markdown",
   "metadata": {},
   "source": [
    "QUES 4"
   ]
  },
  {
   "cell_type": "code",
   "execution_count": 8,
   "metadata": {},
   "outputs": [
    {
     "name": "stdout",
     "output_type": "stream",
     "text": [
      "5\n",
      "1\n",
      "2\n",
      "3\n",
      "4\n",
      "5\n",
      "5\n",
      "4\n",
      "3\n",
      "2\n",
      "1\n"
     ]
    }
   ],
   "source": [
    "a= int(input())\n",
    "for i in range(1,a+1,1):\n",
    "    print(i)\n",
    "for j in range(a,0,-1):\n",
    "    print(j)"
   ]
  },
  {
   "cell_type": "markdown",
   "metadata": {},
   "source": [
    "QUES 5"
   ]
  },
  {
   "cell_type": "code",
   "execution_count": 10,
   "metadata": {},
   "outputs": [
    {
     "name": "stdout",
     "output_type": "stream",
     "text": [
      "radius  5\n",
      "523.3333333333334  cubic unit\n"
     ]
    }
   ],
   "source": [
    "r = float(input('radius  '))\n",
    "print((4*3.14*r**3)/3 , ' cubic unit')"
   ]
  },
  {
   "cell_type": "markdown",
   "metadata": {},
   "source": [
    "QUES 6"
   ]
  },
  {
   "cell_type": "code",
   "execution_count": 19,
   "metadata": {},
   "outputs": [
    {
     "name": "stdout",
     "output_type": "stream",
     "text": [
      "even numbers \n",
      "2 \n",
      "4 \n",
      "6 \n",
      "8 \n",
      "10 \n",
      "12 \n",
      "14 \n",
      "16 \n",
      "18 \n",
      "20 \n",
      "22 \n",
      "24 \n",
      "26 \n",
      "28 \n",
      "30 \n",
      "32 \n",
      "34 \n",
      "36 \n",
      "38 \n",
      "40 \n",
      "42 \n",
      "44 \n",
      "46 \n",
      "48 \n",
      "50 \n",
      "52 \n",
      "54 \n",
      "56 \n",
      "58 \n",
      "60 \n",
      "62 \n",
      "64 \n",
      "66 \n",
      "68 \n",
      "70 \n",
      "72 \n",
      "74 \n",
      "76 \n",
      "78 \n",
      "80 \n",
      "82 \n",
      "84 \n",
      "86 \n",
      "88 \n",
      "90 \n",
      "92 \n",
      "94 \n",
      "96 \n",
      "98 \n",
      "odd numbers \n",
      "1 \n",
      "3 \n",
      "5 \n",
      "7 \n",
      "9 \n",
      "11 \n",
      "13 \n",
      "15 \n",
      "17 \n",
      "19 \n",
      "21 \n",
      "23 \n",
      "25 \n",
      "27 \n",
      "29 \n",
      "31 \n",
      "33 \n",
      "35 \n",
      "37 \n",
      "39 \n",
      "41 \n",
      "43 \n",
      "45 \n",
      "47 \n",
      "49 \n",
      "51 \n",
      "53 \n",
      "55 \n",
      "57 \n",
      "59 \n",
      "61 \n",
      "63 \n",
      "65 \n",
      "67 \n",
      "69 \n",
      "71 \n",
      "73 \n",
      "75 \n",
      "77 \n",
      "79 \n",
      "81 \n",
      "83 \n",
      "85 \n",
      "87 \n",
      "89 \n",
      "91 \n",
      "93 \n",
      "95 \n",
      "97 \n",
      "99 \n"
     ]
    }
   ],
   "source": [
    "print(\"even numbers\",end=\" \\n\")\n",
    "for i in range(1,100):\n",
    "    if i%2 == 0:\n",
    "        \n",
    "        print(i,end=\" \\n\")\n",
    "print(\"odd numbers\",end= \" \\n\")\n",
    "for j in range(1,100):\n",
    "    if j%2 != 0:\n",
    "        \n",
    "        print(j,end=\" \\n\")\n",
    "    "
   ]
  },
  {
   "cell_type": "markdown",
   "metadata": {},
   "source": [
    "QUES 7"
   ]
  },
  {
   "cell_type": "code",
   "execution_count": 20,
   "metadata": {},
   "outputs": [
    {
     "name": "stdout",
     "output_type": "stream",
     "text": [
      "enter a  2\n",
      "enter b  5\n",
      "enter c  4\n",
      "roots are \n",
      " (-5+2.6457513110645907j) (-5-2.6457513110645907j)\n"
     ]
    }
   ],
   "source": [
    "a = int(input(\"enter a  \"))\n",
    "b = int(input(\"enter b  \"))\n",
    "c = int(input(\"enter c  \"))\n",
    "d = b**2-(4*a*c)\n",
    "r1 = -b+(d**0.5)\n",
    "r2 = -b-(d**0.5)\n",
    "print(\"roots are \\n\",r1,r2)\n"
   ]
  },
  {
   "cell_type": "markdown",
   "metadata": {},
   "source": [
    "QUES 8"
   ]
  },
  {
   "cell_type": "code",
   "execution_count": 56,
   "metadata": {},
   "outputs": [
    {
     "name": "stdout",
     "output_type": "stream",
     "text": [
      "enter the number 456\n",
      "3 digits \n"
     ]
    }
   ],
   "source": [
    "n = int(input(\"enter the number \"))\n",
    "l=len(str(abs(n)))\n",
    "print(\"%d digits \"%l)"
   ]
  },
  {
   "cell_type": "code",
   "execution_count": 55,
   "metadata": {},
   "outputs": [
    {
     "name": "stdout",
     "output_type": "stream",
     "text": [
      "enter the number 456\n",
      "3 digits \n"
     ]
    }
   ],
   "source": [
    "x=int(input(\"enter the number \"))\n",
    "x=abs(x)\n",
    "i = 0\n",
    "while x >= 10**i:\n",
    "    i +=1\n",
    "    \n",
    "print(\"%d digits \" %i)"
   ]
  },
  {
   "cell_type": "markdown",
   "metadata": {},
   "source": [
    "QUES 9"
   ]
  },
  {
   "cell_type": "code",
   "execution_count": 69,
   "metadata": {},
   "outputs": [
    {
     "name": "stdout",
     "output_type": "stream",
     "text": [
      "Enter the number 1\n",
      "1 is a prime num\n"
     ]
    }
   ],
   "source": [
    "n=int(input(\"Enter the number \"))\n",
    "if n>2:\n",
    "    for i in range(2,n):\n",
    "        if n%i == 0:\n",
    "            print(\"%d is not a prime num\" %n)\n",
    "            break\n",
    "        else:\n",
    "            print(\"%d is a prime num\"%n)\n",
    "            break\n",
    "else:\n",
    "    print(\"%d is a prime num\"%n)\n",
    "    "
   ]
  },
  {
   "cell_type": "markdown",
   "metadata": {},
   "source": [
    "QUES 10"
   ]
  },
  {
   "cell_type": "code",
   "execution_count": 17,
   "metadata": {},
   "outputs": [
    {
     "name": "stdout",
     "output_type": "stream",
     "text": [
      "enter no. 17\n",
      "3 +5 +6 +9 +10 +12 +15 +\n",
      " = 60\n"
     ]
    }
   ],
   "source": [
    "inp = int(input(\"enter no. \"))\n",
    "summ = 0\n",
    "for i in range(1,inp+1):\n",
    "    if i%3==0 or i%5==0:\n",
    "        summ += i\n",
    "        print(i,end=' +')\n",
    "        \n",
    "\n",
    "print('\\n =',summ)"
   ]
  },
  {
   "cell_type": "markdown",
   "metadata": {},
   "source": [
    "QUES 11"
   ]
  },
  {
   "cell_type": "code",
   "execution_count": 20,
   "metadata": {},
   "outputs": [
    {
     "name": "stdout",
     "output_type": "stream",
     "text": [
      "enter no. 5\n",
      "choose sum or product -product\n",
      "120\n"
     ]
    }
   ],
   "source": [
    "n = int(input(\"enter no. \"))\n",
    "opt = input(\"choose sum or product -\")\n",
    "summ = 0\n",
    "prod = 1\n",
    "if opt == \"sum\":\n",
    "    for i in range(1,n+1):\n",
    "        summ += i\n",
    "        \n",
    "    print(summ)\n",
    "if opt == \"product\":\n",
    "    for i in range(1,n+1):\n",
    "        prod = prod*i\n",
    "        \n",
    "    print(prod)\n",
    "        "
   ]
  },
  {
   "cell_type": "markdown",
   "metadata": {},
   "source": [
    "QUES 12"
   ]
  },
  {
   "cell_type": "code",
   "execution_count": 21,
   "metadata": {},
   "outputs": [
    {
     "name": "stdout",
     "output_type": "stream",
     "text": [
      "sum of all multiples of 3 and 5 till 1000 is  23341668\n"
     ]
    }
   ],
   "source": [
    "summ = 0\n",
    "for i in range(1,10001):\n",
    "    if i%3==0 or i%5==0:\n",
    "        summ += i\n",
    "        \n",
    "print(\"sum of all multiples of 3 and 5 till 1000 is \",summ)\n",
    "        "
   ]
  },
  {
   "cell_type": "markdown",
   "metadata": {},
   "source": [
    "QUES 13"
   ]
  },
  {
   "cell_type": "code",
   "execution_count": 58,
   "metadata": {},
   "outputs": [
    {
     "name": "stdout",
     "output_type": "stream",
     "text": [
      "2002\n",
      "2009\n",
      "2016\n",
      "2023\n",
      "2037\n",
      "2044\n",
      "2051\n",
      "2058\n",
      "2072\n",
      "2079\n",
      "2086\n",
      "2093\n",
      "2107\n",
      "2114\n",
      "2121\n",
      "2128\n",
      "2142\n",
      "2149\n",
      "2156\n",
      "2163\n",
      "2177\n",
      "2184\n",
      "2191\n",
      "2198\n",
      "2212\n",
      "2219\n",
      "2226\n",
      "2233\n",
      "2247\n",
      "2254\n",
      "2261\n",
      "2268\n",
      "2282\n",
      "2289\n",
      "2296\n",
      "2303\n",
      "2317\n",
      "2324\n",
      "2331\n",
      "2338\n",
      "2352\n",
      "2359\n",
      "2366\n",
      "2373\n",
      "2387\n",
      "2394\n",
      "2401\n",
      "2408\n",
      "2422\n",
      "2429\n",
      "2436\n",
      "2443\n",
      "2457\n",
      "2464\n",
      "2471\n",
      "2478\n",
      "2492\n",
      "2499\n",
      "2506\n",
      "2513\n",
      "2527\n",
      "2534\n",
      "2541\n",
      "2548\n",
      "2562\n",
      "2569\n",
      "2576\n",
      "2583\n",
      "2597\n",
      "2604\n",
      "2611\n",
      "2618\n",
      "2632\n",
      "2639\n",
      "2646\n",
      "2653\n",
      "2667\n",
      "2674\n",
      "2681\n",
      "2688\n",
      "2702\n",
      "2709\n",
      "2716\n",
      "2723\n",
      "2737\n",
      "2744\n",
      "2751\n",
      "2758\n",
      "2772\n",
      "2779\n",
      "2786\n",
      "2793\n",
      "2807\n",
      "2814\n",
      "2821\n",
      "2828\n",
      "2842\n",
      "2849\n",
      "2856\n",
      "2863\n",
      "2877\n",
      "2884\n",
      "2891\n",
      "2898\n",
      "2912\n",
      "2919\n",
      "2926\n",
      "2933\n",
      "2947\n",
      "2954\n",
      "2961\n",
      "2968\n",
      "2982\n",
      "2989\n",
      "2996\n",
      "3003\n",
      "3017\n",
      "3024\n",
      "3031\n",
      "3038\n",
      "3052\n",
      "3059\n",
      "3066\n",
      "3073\n",
      "3087\n",
      "3094\n",
      "3101\n",
      "3108\n",
      "3122\n",
      "3129\n",
      "3136\n",
      "3143\n",
      "3157\n",
      "3164\n",
      "3171\n",
      "3178\n",
      "3192\n",
      "3199\n",
      "sum of multiples of 7 but not 5 is  358631\n"
     ]
    }
   ],
   "source": [
    "summ = 0\n",
    "for i in range(2000,3201):\n",
    "    if i%7==0 and i%5 != 0:\n",
    "        summ += i\n",
    "        print(i)\n",
    "    \n",
    "print(\"sum of multiples of 7 but not 5 is \",summ)"
   ]
  },
  {
   "cell_type": "markdown",
   "metadata": {},
   "source": [
    "QUES 14"
   ]
  },
  {
   "cell_type": "code",
   "execution_count": 26,
   "metadata": {},
   "outputs": [
    {
     "name": "stdout",
     "output_type": "stream",
     "text": [
      "sum of squares  338350\n",
      "square of sum  5050\n",
      "difference is  333300\n"
     ]
    }
   ],
   "source": [
    "sum1=0\n",
    "for i in range(1,101):\n",
    "    sum1 = sum1 + (i*i)\n",
    "print(\"sum of squares \",sum1)\n",
    "\n",
    "sum2=0\n",
    "for i in range(1,101):\n",
    "    sum2 += i\n",
    "    \n",
    "print(\"square of sum \",sum2)\n",
    "\n",
    "print(\"difference is \", sum1-sum2)\n",
    "    "
   ]
  },
  {
   "cell_type": "markdown",
   "metadata": {},
   "source": [
    "QUES 15\n"
   ]
  },
  {
   "cell_type": "code",
   "execution_count": 57,
   "metadata": {},
   "outputs": [
    {
     "name": "stdout",
     "output_type": "stream",
     "text": [
      "enter no. 7\n",
      "enter no. 5\n",
      "enter no. 4\n",
      "enter no. l\n"
     ]
    },
    {
     "ename": "ValueError",
     "evalue": "invalid literal for int() with base 10: 'l'",
     "output_type": "error",
     "traceback": [
      "\u001b[1;31m---------------------------------------------------------------------------\u001b[0m",
      "\u001b[1;31mValueError\u001b[0m                                Traceback (most recent call last)",
      "\u001b[1;32m<ipython-input-57-65af3c16dd51>\u001b[0m in \u001b[0;36m<module>\u001b[1;34m\u001b[0m\n\u001b[0;32m      4\u001b[0m \u001b[0mn\u001b[0m\u001b[1;33m=\u001b[0m\u001b[0mint\u001b[0m\u001b[1;33m(\u001b[0m\u001b[0minput\u001b[0m\u001b[1;33m(\u001b[0m\u001b[1;34m\"enter no. \"\u001b[0m\u001b[1;33m)\u001b[0m\u001b[1;33m)\u001b[0m\u001b[1;33m\u001b[0m\u001b[1;33m\u001b[0m\u001b[0m\n\u001b[0;32m      5\u001b[0m \u001b[1;32mwhile\u001b[0m \u001b[0mtype\u001b[0m\u001b[1;33m(\u001b[0m\u001b[0mn\u001b[0m\u001b[1;33m)\u001b[0m\u001b[1;33m==\u001b[0m\u001b[0mint\u001b[0m\u001b[1;33m:\u001b[0m\u001b[1;33m\u001b[0m\u001b[1;33m\u001b[0m\u001b[0m\n\u001b[1;32m----> 6\u001b[1;33m     \u001b[0mn\u001b[0m\u001b[1;33m=\u001b[0m\u001b[0mint\u001b[0m\u001b[1;33m(\u001b[0m\u001b[0minput\u001b[0m\u001b[1;33m(\u001b[0m\u001b[1;34m\"enter no. \"\u001b[0m\u001b[1;33m)\u001b[0m\u001b[1;33m)\u001b[0m\u001b[1;33m\u001b[0m\u001b[1;33m\u001b[0m\u001b[0m\n\u001b[0m\u001b[0;32m      7\u001b[0m     \u001b[0mcount\u001b[0m\u001b[1;33m+=\u001b[0m\u001b[1;36m1\u001b[0m\u001b[1;33m\u001b[0m\u001b[1;33m\u001b[0m\u001b[0m\n\u001b[0;32m      8\u001b[0m     \u001b[0mtotal\u001b[0m \u001b[1;33m=\u001b[0m \u001b[0mtotal\u001b[0m\u001b[1;33m+\u001b[0m\u001b[0mn\u001b[0m\u001b[1;33m\u001b[0m\u001b[1;33m\u001b[0m\u001b[0m\n",
      "\u001b[1;31mValueError\u001b[0m: invalid literal for int() with base 10: 'l'"
     ]
    }
   ],
   "source": [
    "count=0\n",
    "total=0\n",
    "avg=0\n",
    "n=int(input(\"enter no. \"))\n",
    "while type(n)==int:\n",
    "    n=int(input(\"enter no. \"))\n",
    "    count+=1\n",
    "    total = total+n\n",
    "    \n",
    "try:\n",
    "    print(\" \")\n",
    "except ValueError:\n",
    "    print('number entered %d times , sum is %d and avg is %d '%count %total %(total//count))\n",
    "    \n",
    "    "
   ]
  },
  {
   "cell_type": "markdown",
   "metadata": {},
   "source": [
    "QUES 16"
   ]
  },
  {
   "cell_type": "code",
   "execution_count": 37,
   "metadata": {},
   "outputs": [
    {
     "name": "stdout",
     "output_type": "stream",
     "text": [
      "enter no. 10\n",
      "1\n",
      "2\n",
      "3\n",
      "5\n",
      "7\n"
     ]
    }
   ],
   "source": [
    "n = int(input(\"enter no. \"))\n",
    "for i in range(1,n+1):\n",
    "    f = 0\n",
    "    for j in range(2,(i//2)+1):\n",
    "        if i%j == 0:\n",
    "            f = 1\n",
    "            break\n",
    "    if f==0:\n",
    "        print(i)\n",
    "    "
   ]
  },
  {
   "cell_type": "markdown",
   "metadata": {},
   "source": [
    "QUES 17"
   ]
  },
  {
   "cell_type": "code",
   "execution_count": 58,
   "metadata": {},
   "outputs": [
    {
     "name": "stdout",
     "output_type": "stream",
     "text": [
      "enter no. 7\n",
      "5040\n"
     ]
    }
   ],
   "source": [
    "n = int(input(\"enter no. \"))\n",
    "fact = 1\n",
    "for i in range(n,1,-1):\n",
    "    fact = fact*i\n",
    "print(fact)\n",
    "    "
   ]
  },
  {
   "cell_type": "markdown",
   "metadata": {},
   "source": [
    "QUES 18"
   ]
  },
  {
   "cell_type": "code",
   "execution_count": 1,
   "metadata": {},
   "outputs": [
    {
     "name": "stdout",
     "output_type": "stream",
     "text": [
      "enter no. 10\n",
      "1\n",
      "1\n",
      "2\n",
      "3\n",
      "5\n",
      "8\n",
      "13\n",
      "21\n",
      "34\n",
      "55\n"
     ]
    }
   ],
   "source": [
    "n = int(input(\"enter no. \"))\n",
    "a=1\n",
    "b=0\n",
    "for _ in range(n):\n",
    "    print(a)\n",
    "    b, a=a,b+a\n"
   ]
  },
  {
   "cell_type": "markdown",
   "metadata": {},
   "source": [
    "QUES 19"
   ]
  },
  {
   "cell_type": "code",
   "execution_count": 15,
   "metadata": {},
   "outputs": [
    {
     "name": "stdout",
     "output_type": "stream",
     "text": [
      "enter 1st no. 5\n",
      "enter 2nd no. 3\n",
      "LCM is  15\n"
     ]
    }
   ],
   "source": [
    "x = int(input(\"enter 1st no. \"))\n",
    "y = int(input(\"enter 2nd no. \"))\n",
    "greater = max(x,y)\n",
    "\n",
    "while(True):\n",
    "    if((greater % x == 0) and (greater % y == 0)):\n",
    "        lcm = greater\n",
    "        break\n",
    "    greater += 1\n",
    "\n",
    "print('LCM is ',lcm)"
   ]
  },
  {
   "cell_type": "markdown",
   "metadata": {},
   "source": [
    "QUES 20"
   ]
  },
  {
   "cell_type": "code",
   "execution_count": 16,
   "metadata": {},
   "outputs": [
    {
     "name": "stdout",
     "output_type": "stream",
     "text": [
      "enter a no. 10\n",
      "1\n",
      "2\n",
      "5\n",
      "10\n"
     ]
    }
   ],
   "source": [
    "n = int(input(\"enter a no. \"))\n",
    "\n",
    "for i in range(1,n+1):\n",
    "    if n%i==0:\n",
    "        print(i)"
   ]
  },
  {
   "cell_type": "markdown",
   "metadata": {},
   "source": [
    "QUES 21"
   ]
  },
  {
   "cell_type": "code",
   "execution_count": 32,
   "metadata": {},
   "outputs": [
    {
     "name": "stdout",
     "output_type": "stream",
     "text": [
      "\n",
      "*\n",
      "**\n",
      "***\n",
      "****\n",
      "*****\n"
     ]
    }
   ],
   "source": [
    "for i in range(6):\n",
    "    a=\"*\"*i\n",
    "    print(a)\n",
    "    "
   ]
  },
  {
   "cell_type": "code",
   "execution_count": 25,
   "metadata": {},
   "outputs": [
    {
     "name": "stdout",
     "output_type": "stream",
     "text": [
      "******\n",
      "*****\n",
      "****\n",
      "***\n",
      "**\n",
      "*\n"
     ]
    }
   ],
   "source": [
    "for i in range(6):\n",
    "    a=\"*\"*(6-i)\n",
    "    print(a)"
   ]
  },
  {
   "cell_type": "code",
   "execution_count": 30,
   "metadata": {},
   "outputs": [
    {
     "name": "stdout",
     "output_type": "stream",
     "text": [
      "1 \n",
      "2 2 \n",
      "3 3 3 \n",
      "4 4 4 4 \n",
      "5 5 5 5 5 \n"
     ]
    }
   ],
   "source": [
    "for i in range(1,6):\n",
    "    a=(\"%d \"%i)*i\n",
    "    print(a)"
   ]
  },
  {
   "cell_type": "code",
   "execution_count": 36,
   "metadata": {},
   "outputs": [
    {
     "name": "stdout",
     "output_type": "stream",
     "text": [
      "        * \n",
      "      * * * \n",
      "    * * * * * \n",
      "  * * * * * * * \n",
      "* * * * * * * * * \n"
     ]
    }
   ],
   "source": [
    "n=5\n",
    "for i in range(n):\n",
    "    print(\"  \"*(n-i-1) +\"* \"*(i+1) + \"* \"*i)"
   ]
  },
  {
   "cell_type": "code",
   "execution_count": 40,
   "metadata": {},
   "outputs": [
    {
     "name": "stdout",
     "output_type": "stream",
     "text": [
      "1 \n",
      "2 3 \n",
      "4 5 6 \n",
      "7 8 9 10 \n",
      "11 12 13 14 15 \n"
     ]
    }
   ],
   "source": [
    "a=1\n",
    "for i in range(1,6):\n",
    "    for j in range(i):\n",
    "        print(a, end=\" \")\n",
    "        a+=1\n",
    "    print()"
   ]
  },
  {
   "cell_type": "code",
   "execution_count": 41,
   "metadata": {},
   "outputs": [
    {
     "name": "stdout",
     "output_type": "stream",
     "text": [
      "A \n",
      "B C \n",
      "D E F \n",
      "G H I J \n",
      "K L M N O \n"
     ]
    }
   ],
   "source": [
    "a=65\n",
    "for i in range(1,6):\n",
    "    for j in range(i):\n",
    "        print(chr(a), end = \" \")\n",
    "        a+=1\n",
    "    print()"
   ]
  },
  {
   "cell_type": "markdown",
   "metadata": {},
   "source": [
    "QUES 22"
   ]
  },
  {
   "cell_type": "code",
   "execution_count": 42,
   "metadata": {},
   "outputs": [
    {
     "name": "stdout",
     "output_type": "stream",
     "text": [
      "enter no. 9\n",
      "sum is  11106\n"
     ]
    }
   ],
   "source": [
    "a = int(input(\"enter no. \"))\n",
    "sum = a + (a*10)+a +((a*100)+(a*10)+a) + ((a*1000)+(a*100)+(a*10)+a)\n",
    "print(\"sum is \", sum)"
   ]
  },
  {
   "cell_type": "code",
   "execution_count": null,
   "metadata": {},
   "outputs": [],
   "source": []
  }
 ],
 "metadata": {
  "kernelspec": {
   "display_name": "Python 3",
   "language": "python",
   "name": "python3"
  },
  "language_info": {
   "codemirror_mode": {
    "name": "ipython",
    "version": 3
   },
   "file_extension": ".py",
   "mimetype": "text/x-python",
   "name": "python",
   "nbconvert_exporter": "python",
   "pygments_lexer": "ipython3",
   "version": "3.7.1"
  }
 },
 "nbformat": 4,
 "nbformat_minor": 2
}
